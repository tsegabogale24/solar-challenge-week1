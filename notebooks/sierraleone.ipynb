{
 "cells": [
  {
   "cell_type": "code",
   "execution_count": 1,
   "metadata": {},
   "outputs": [],
   "source": [
    "import pandas as pd \n",
    "import numpy as np \n",
    "import seaborn as sns\n",
    "import matplotlib.pyplot as plt\n",
    "from scipy import stats"
   ]
  },
  {
   "cell_type": "code",
   "execution_count": 2,
   "metadata": {},
   "outputs": [],
   "source": [
    "df = pd.read_csv('./../data/sierraleone-bumbuna.csv')"
   ]
  },
  {
   "cell_type": "code",
   "execution_count": 4,
   "metadata": {},
   "outputs": [
    {
     "name": "stdout",
     "output_type": "stream",
     "text": [
      "<class 'pandas.core.frame.DataFrame'>\n",
      "RangeIndex: 525600 entries, 0 to 525599\n",
      "Data columns (total 19 columns):\n",
      " #   Column         Non-Null Count   Dtype  \n",
      "---  ------         --------------   -----  \n",
      " 0   Timestamp      525600 non-null  object \n",
      " 1   GHI            525600 non-null  float64\n",
      " 2   DNI            525600 non-null  float64\n",
      " 3   DHI            525600 non-null  float64\n",
      " 4   ModA           525600 non-null  float64\n",
      " 5   ModB           525600 non-null  float64\n",
      " 6   Tamb           525600 non-null  float64\n",
      " 7   RH             525600 non-null  float64\n",
      " 8   WS             525600 non-null  float64\n",
      " 9   WSgust         525600 non-null  float64\n",
      " 10  WSstdev        525600 non-null  float64\n",
      " 11  WD             525600 non-null  float64\n",
      " 12  WDstdev        525600 non-null  float64\n",
      " 13  BP             525600 non-null  int64  \n",
      " 14  Cleaning       525600 non-null  int64  \n",
      " 15  Precipitation  525600 non-null  float64\n",
      " 16  TModA          525600 non-null  float64\n",
      " 17  TModB          525600 non-null  float64\n",
      " 18  Comments       0 non-null       float64\n",
      "dtypes: float64(16), int64(2), object(1)\n",
      "memory usage: 76.2+ MB\n"
     ]
    },
    {
     "data": {
      "text/html": [
       "<div>\n",
       "<style scoped>\n",
       "    .dataframe tbody tr th:only-of-type {\n",
       "        vertical-align: middle;\n",
       "    }\n",
       "\n",
       "    .dataframe tbody tr th {\n",
       "        vertical-align: top;\n",
       "    }\n",
       "\n",
       "    .dataframe thead th {\n",
       "        text-align: right;\n",
       "    }\n",
       "</style>\n",
       "<table border=\"1\" class=\"dataframe\">\n",
       "  <thead>\n",
       "    <tr style=\"text-align: right;\">\n",
       "      <th></th>\n",
       "      <th>GHI</th>\n",
       "      <th>DNI</th>\n",
       "      <th>DHI</th>\n",
       "      <th>ModA</th>\n",
       "      <th>ModB</th>\n",
       "      <th>Tamb</th>\n",
       "      <th>RH</th>\n",
       "      <th>WS</th>\n",
       "      <th>WSgust</th>\n",
       "      <th>WSstdev</th>\n",
       "      <th>WD</th>\n",
       "      <th>WDstdev</th>\n",
       "      <th>BP</th>\n",
       "      <th>Cleaning</th>\n",
       "      <th>Precipitation</th>\n",
       "      <th>TModA</th>\n",
       "      <th>TModB</th>\n",
       "      <th>Comments</th>\n",
       "    </tr>\n",
       "  </thead>\n",
       "  <tbody>\n",
       "    <tr>\n",
       "      <th>count</th>\n",
       "      <td>525600.000000</td>\n",
       "      <td>525600.000000</td>\n",
       "      <td>525600.000000</td>\n",
       "      <td>525600.000000</td>\n",
       "      <td>525600.000000</td>\n",
       "      <td>525600.000000</td>\n",
       "      <td>525600.000000</td>\n",
       "      <td>525600.000000</td>\n",
       "      <td>525600.000000</td>\n",
       "      <td>525600.000000</td>\n",
       "      <td>525600.000000</td>\n",
       "      <td>525600.000000</td>\n",
       "      <td>525600.000000</td>\n",
       "      <td>525600.000000</td>\n",
       "      <td>525600.000000</td>\n",
       "      <td>525600.000000</td>\n",
       "      <td>525600.000000</td>\n",
       "      <td>0.0</td>\n",
       "    </tr>\n",
       "    <tr>\n",
       "      <th>mean</th>\n",
       "      <td>201.957515</td>\n",
       "      <td>116.376337</td>\n",
       "      <td>113.720571</td>\n",
       "      <td>206.643095</td>\n",
       "      <td>198.114691</td>\n",
       "      <td>26.319394</td>\n",
       "      <td>79.448857</td>\n",
       "      <td>1.146113</td>\n",
       "      <td>1.691606</td>\n",
       "      <td>0.363823</td>\n",
       "      <td>133.044668</td>\n",
       "      <td>7.172220</td>\n",
       "      <td>999.876469</td>\n",
       "      <td>0.000967</td>\n",
       "      <td>0.004806</td>\n",
       "      <td>32.504263</td>\n",
       "      <td>32.593091</td>\n",
       "      <td>NaN</td>\n",
       "    </tr>\n",
       "    <tr>\n",
       "      <th>std</th>\n",
       "      <td>298.495150</td>\n",
       "      <td>218.652659</td>\n",
       "      <td>158.946032</td>\n",
       "      <td>300.896893</td>\n",
       "      <td>288.889073</td>\n",
       "      <td>4.398605</td>\n",
       "      <td>20.520775</td>\n",
       "      <td>1.239248</td>\n",
       "      <td>1.617053</td>\n",
       "      <td>0.295000</td>\n",
       "      <td>114.284792</td>\n",
       "      <td>7.535093</td>\n",
       "      <td>2.104419</td>\n",
       "      <td>0.031074</td>\n",
       "      <td>0.047556</td>\n",
       "      <td>12.434899</td>\n",
       "      <td>12.009161</td>\n",
       "      <td>NaN</td>\n",
       "    </tr>\n",
       "    <tr>\n",
       "      <th>min</th>\n",
       "      <td>-19.500000</td>\n",
       "      <td>-7.800000</td>\n",
       "      <td>-17.900000</td>\n",
       "      <td>0.000000</td>\n",
       "      <td>0.000000</td>\n",
       "      <td>12.300000</td>\n",
       "      <td>9.900000</td>\n",
       "      <td>0.000000</td>\n",
       "      <td>0.000000</td>\n",
       "      <td>0.000000</td>\n",
       "      <td>0.000000</td>\n",
       "      <td>0.000000</td>\n",
       "      <td>993.000000</td>\n",
       "      <td>0.000000</td>\n",
       "      <td>0.000000</td>\n",
       "      <td>10.700000</td>\n",
       "      <td>11.100000</td>\n",
       "      <td>NaN</td>\n",
       "    </tr>\n",
       "    <tr>\n",
       "      <th>25%</th>\n",
       "      <td>-2.800000</td>\n",
       "      <td>-0.300000</td>\n",
       "      <td>-3.800000</td>\n",
       "      <td>0.000000</td>\n",
       "      <td>0.000000</td>\n",
       "      <td>23.100000</td>\n",
       "      <td>68.700000</td>\n",
       "      <td>0.000000</td>\n",
       "      <td>0.000000</td>\n",
       "      <td>0.000000</td>\n",
       "      <td>0.000000</td>\n",
       "      <td>0.000000</td>\n",
       "      <td>999.000000</td>\n",
       "      <td>0.000000</td>\n",
       "      <td>0.000000</td>\n",
       "      <td>23.500000</td>\n",
       "      <td>23.800000</td>\n",
       "      <td>NaN</td>\n",
       "    </tr>\n",
       "    <tr>\n",
       "      <th>50%</th>\n",
       "      <td>0.300000</td>\n",
       "      <td>-0.100000</td>\n",
       "      <td>-0.100000</td>\n",
       "      <td>3.600000</td>\n",
       "      <td>3.400000</td>\n",
       "      <td>25.300000</td>\n",
       "      <td>85.400000</td>\n",
       "      <td>0.800000</td>\n",
       "      <td>1.600000</td>\n",
       "      <td>0.400000</td>\n",
       "      <td>161.500000</td>\n",
       "      <td>6.200000</td>\n",
       "      <td>1000.000000</td>\n",
       "      <td>0.000000</td>\n",
       "      <td>0.000000</td>\n",
       "      <td>26.600000</td>\n",
       "      <td>26.900000</td>\n",
       "      <td>NaN</td>\n",
       "    </tr>\n",
       "    <tr>\n",
       "      <th>75%</th>\n",
       "      <td>362.400000</td>\n",
       "      <td>107.000000</td>\n",
       "      <td>224.700000</td>\n",
       "      <td>359.500000</td>\n",
       "      <td>345.400000</td>\n",
       "      <td>29.400000</td>\n",
       "      <td>96.700000</td>\n",
       "      <td>2.000000</td>\n",
       "      <td>2.600000</td>\n",
       "      <td>0.600000</td>\n",
       "      <td>234.100000</td>\n",
       "      <td>12.000000</td>\n",
       "      <td>1001.000000</td>\n",
       "      <td>0.000000</td>\n",
       "      <td>0.000000</td>\n",
       "      <td>40.900000</td>\n",
       "      <td>41.300000</td>\n",
       "      <td>NaN</td>\n",
       "    </tr>\n",
       "    <tr>\n",
       "      <th>max</th>\n",
       "      <td>1499.000000</td>\n",
       "      <td>946.000000</td>\n",
       "      <td>892.000000</td>\n",
       "      <td>1507.000000</td>\n",
       "      <td>1473.000000</td>\n",
       "      <td>39.900000</td>\n",
       "      <td>100.000000</td>\n",
       "      <td>19.200000</td>\n",
       "      <td>23.900000</td>\n",
       "      <td>4.100000</td>\n",
       "      <td>360.000000</td>\n",
       "      <td>98.400000</td>\n",
       "      <td>1006.000000</td>\n",
       "      <td>1.000000</td>\n",
       "      <td>2.400000</td>\n",
       "      <td>72.800000</td>\n",
       "      <td>70.400000</td>\n",
       "      <td>NaN</td>\n",
       "    </tr>\n",
       "  </tbody>\n",
       "</table>\n",
       "</div>"
      ],
      "text/plain": [
       "                 GHI            DNI            DHI           ModA  \\\n",
       "count  525600.000000  525600.000000  525600.000000  525600.000000   \n",
       "mean      201.957515     116.376337     113.720571     206.643095   \n",
       "std       298.495150     218.652659     158.946032     300.896893   \n",
       "min       -19.500000      -7.800000     -17.900000       0.000000   \n",
       "25%        -2.800000      -0.300000      -3.800000       0.000000   \n",
       "50%         0.300000      -0.100000      -0.100000       3.600000   \n",
       "75%       362.400000     107.000000     224.700000     359.500000   \n",
       "max      1499.000000     946.000000     892.000000    1507.000000   \n",
       "\n",
       "                ModB           Tamb             RH             WS  \\\n",
       "count  525600.000000  525600.000000  525600.000000  525600.000000   \n",
       "mean      198.114691      26.319394      79.448857       1.146113   \n",
       "std       288.889073       4.398605      20.520775       1.239248   \n",
       "min         0.000000      12.300000       9.900000       0.000000   \n",
       "25%         0.000000      23.100000      68.700000       0.000000   \n",
       "50%         3.400000      25.300000      85.400000       0.800000   \n",
       "75%       345.400000      29.400000      96.700000       2.000000   \n",
       "max      1473.000000      39.900000     100.000000      19.200000   \n",
       "\n",
       "              WSgust        WSstdev             WD        WDstdev  \\\n",
       "count  525600.000000  525600.000000  525600.000000  525600.000000   \n",
       "mean        1.691606       0.363823     133.044668       7.172220   \n",
       "std         1.617053       0.295000     114.284792       7.535093   \n",
       "min         0.000000       0.000000       0.000000       0.000000   \n",
       "25%         0.000000       0.000000       0.000000       0.000000   \n",
       "50%         1.600000       0.400000     161.500000       6.200000   \n",
       "75%         2.600000       0.600000     234.100000      12.000000   \n",
       "max        23.900000       4.100000     360.000000      98.400000   \n",
       "\n",
       "                  BP       Cleaning  Precipitation          TModA  \\\n",
       "count  525600.000000  525600.000000  525600.000000  525600.000000   \n",
       "mean      999.876469       0.000967       0.004806      32.504263   \n",
       "std         2.104419       0.031074       0.047556      12.434899   \n",
       "min       993.000000       0.000000       0.000000      10.700000   \n",
       "25%       999.000000       0.000000       0.000000      23.500000   \n",
       "50%      1000.000000       0.000000       0.000000      26.600000   \n",
       "75%      1001.000000       0.000000       0.000000      40.900000   \n",
       "max      1006.000000       1.000000       2.400000      72.800000   \n",
       "\n",
       "               TModB  Comments  \n",
       "count  525600.000000       0.0  \n",
       "mean       32.593091       NaN  \n",
       "std        12.009161       NaN  \n",
       "min        11.100000       NaN  \n",
       "25%        23.800000       NaN  \n",
       "50%        26.900000       NaN  \n",
       "75%        41.300000       NaN  \n",
       "max        70.400000       NaN  "
      ]
     },
     "execution_count": 4,
     "metadata": {},
     "output_type": "execute_result"
    }
   ],
   "source": [
    "df.head()\n",
    "df.info()\n",
    "df.describe()"
   ]
  },
  {
   "cell_type": "code",
   "execution_count": 5,
   "metadata": {},
   "outputs": [
    {
     "data": {
      "text/plain": [
       "Timestamp         object\n",
       "GHI              float64\n",
       "DNI              float64\n",
       "DHI              float64\n",
       "ModA             float64\n",
       "ModB             float64\n",
       "Tamb             float64\n",
       "RH               float64\n",
       "WS               float64\n",
       "WSgust           float64\n",
       "WSstdev          float64\n",
       "WD               float64\n",
       "WDstdev          float64\n",
       "BP                 int64\n",
       "Cleaning           int64\n",
       "Precipitation    float64\n",
       "TModA            float64\n",
       "TModB            float64\n",
       "Comments         float64\n",
       "dtype: object"
      ]
     },
     "execution_count": 5,
     "metadata": {},
     "output_type": "execute_result"
    }
   ],
   "source": [
    "df.dtypes"
   ]
  },
  {
   "cell_type": "code",
   "execution_count": 6,
   "metadata": {},
   "outputs": [
    {
     "data": {
      "text/plain": [
       "Timestamp             0\n",
       "GHI                   0\n",
       "DNI                   0\n",
       "DHI                   0\n",
       "ModA                  0\n",
       "ModB                  0\n",
       "Tamb                  0\n",
       "RH                    0\n",
       "WS                    0\n",
       "WSgust                0\n",
       "WSstdev               0\n",
       "WD                    0\n",
       "WDstdev               0\n",
       "BP                    0\n",
       "Cleaning              0\n",
       "Precipitation         0\n",
       "TModA                 0\n",
       "TModB                 0\n",
       "Comments         525600\n",
       "dtype: int64"
      ]
     },
     "execution_count": 6,
     "metadata": {},
     "output_type": "execute_result"
    }
   ],
   "source": [
    "df.isnull().sum()"
   ]
  },
  {
   "cell_type": "code",
   "execution_count": 7,
   "metadata": {},
   "outputs": [
    {
     "name": "stdout",
     "output_type": "stream",
     "text": [
      "Comments    100.0\n",
      "dtype: float64\n"
     ]
    }
   ],
   "source": [
    "nullAverage = df.isnull().mean() * 100\n",
    "nullAverage = nullAverage[nullAverage > 5]\n",
    "print(nullAverage)"
   ]
  },
  {
   "cell_type": "code",
   "execution_count": 8,
   "metadata": {},
   "outputs": [],
   "source": [
    "df = df.drop(columns=['Comments'])"
   ]
  },
  {
   "cell_type": "code",
   "execution_count": 9,
   "metadata": {},
   "outputs": [
    {
     "name": "stdout",
     "output_type": "stream",
     "text": [
      "Series([], dtype: float64)\n"
     ]
    }
   ],
   "source": [
    "columns_of_interest = ['GHI', 'DNI', 'DHI', 'ModA', 'ModB', 'WS', 'WSgust']\n",
    "\n",
    "# Percentage of missing values per column\n",
    "missing_percent = df[columns_of_interest].isnull().mean() * 100\n",
    "print(missing_percent[missing_percent > 0])"
   ]
  },
  {
   "cell_type": "code",
   "execution_count": 10,
   "metadata": {},
   "outputs": [
    {
     "name": "stdout",
     "output_type": "stream",
     "text": [
      "Outlier count per column: [2477 7586 2986 1604 2041 3967 3665]\n"
     ]
    }
   ],
   "source": [
    "z_scores = np.abs(stats.zscore(df[['GHI', 'DNI', 'DHI', 'ModA', 'ModB', 'WS', 'WSgust']].dropna()))\n",
    "outliers = (z_scores > 3).sum(axis=0)\n",
    "print(\"Outlier count per column:\", outliers)"
   ]
  },
  {
   "cell_type": "code",
   "execution_count": 11,
   "metadata": {},
   "outputs": [
    {
     "name": "stdout",
     "output_type": "stream",
     "text": [
      "GHI < 0: 261135\n",
      "DNI < 0: 266352\n",
      "DHI < 0: 263128\n",
      "ModA < 0: 0\n",
      "ModB < 0: 0\n",
      "WS < 0: 0\n",
      "WS > 50: 0\n",
      "WSgust < 0: 0\n",
      "WSgust > 50: 0\n"
     ]
    }
   ],
   "source": [
    "for col in ['GHI', 'DNI', 'DHI', 'ModA', 'ModB', 'WS', 'WSgust']:\n",
    "    print(f\"{col} < 0: {df[df[col] < 0].shape[0]}\")\n",
    "    if col in ['WS', 'WSgust']:\n",
    "        print(f\"{col} > 50: {df[df[col] > 50].shape[0]}\")"
   ]
  },
  {
   "cell_type": "code",
   "execution_count": 12,
   "metadata": {},
   "outputs": [],
   "source": [
    "irr_cols = ['GHI', 'DNI', 'DHI']\n",
    "\n",
    "# Replace negative values with NaN\n",
    "for col in irr_cols:\n",
    "    df[col] = df[col].mask(df[col] < 0)\n",
    "\n",
    "# Impute with median \n",
    "for col in irr_cols:\n",
    "    df[col] = df[col].fillna(df[col].median())"
   ]
  },
  {
   "cell_type": "code",
   "execution_count": 14,
   "metadata": {},
   "outputs": [
    {
     "name": "stdout",
     "output_type": "stream",
     "text": [
      "Timestamp        0\n",
      "GHI              0\n",
      "DNI              0\n",
      "DHI              0\n",
      "ModA             0\n",
      "ModB             0\n",
      "Tamb             0\n",
      "RH               0\n",
      "WS               0\n",
      "WSgust           0\n",
      "WSstdev          0\n",
      "WD               0\n",
      "WDstdev          0\n",
      "BP               0\n",
      "Cleaning         0\n",
      "Precipitation    0\n",
      "TModA            0\n",
      "TModB            0\n",
      "dtype: int64\n"
     ]
    }
   ],
   "source": [
    "print(df.isnull().sum())\n"
   ]
  },
  {
   "cell_type": "code",
   "execution_count": 15,
   "metadata": {},
   "outputs": [
    {
     "name": "stdout",
     "output_type": "stream",
     "text": [
      "GHI < 0: 0\n",
      "DNI < 0: 0\n",
      "DHI < 0: 0\n"
     ]
    }
   ],
   "source": [
    "for col in ['GHI', 'DNI', 'DHI']:\n",
    "    print(f\"{col} < 0:\", (df[col] < 0).sum())"
   ]
  },
  {
   "cell_type": "code",
   "execution_count": 17,
   "metadata": {},
   "outputs": [
    {
     "name": "stdout",
     "output_type": "stream",
     "text": [
      "Number of rows: 525600 , Number of columns: 18\n"
     ]
    }
   ],
   "source": [
    "rows, columns = df.shape\n",
    "print(f\"Number of rows: {rows} , Number of columns: {columns}\")"
   ]
  },
  {
   "cell_type": "code",
   "execution_count": 18,
   "metadata": {},
   "outputs": [
    {
     "name": "stdout",
     "output_type": "stream",
     "text": [
      "Outlier count per column: [4744 9227 6386 1604 2041 3967 3665]\n"
     ]
    }
   ],
   "source": [
    "z_scores = np.abs(stats.zscore(df[['GHI', 'DNI', 'DHI', 'ModA', 'ModB', 'WS', 'WSgust']].dropna()))\n",
    "outliers = (z_scores > 3).sum(axis=0)\n",
    "print(\"Outlier count per column:\", outliers)"
   ]
  },
  {
   "cell_type": "code",
   "execution_count": 19,
   "metadata": {},
   "outputs": [],
   "source": [
    "df.to_csv('./../data/sierraleone-bumbuna_clean.csv')"
   ]
  }
 ],
 "metadata": {
  "kernelspec": {
   "display_name": "Python 3",
   "language": "python",
   "name": "python3"
  },
  "language_info": {
   "codemirror_mode": {
    "name": "ipython",
    "version": 3
   },
   "file_extension": ".py",
   "mimetype": "text/x-python",
   "name": "python",
   "nbconvert_exporter": "python",
   "pygments_lexer": "ipython3",
   "version": "3.13.3"
  }
 },
 "nbformat": 4,
 "nbformat_minor": 2
}
